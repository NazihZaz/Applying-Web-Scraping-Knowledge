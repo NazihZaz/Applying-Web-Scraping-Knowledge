{
 "cells": [
  {
   "cell_type": "code",
   "execution_count": 1,
   "id": "2483abce",
   "metadata": {},
   "outputs": [],
   "source": [
    "# Import Dependecies\n",
    "import pandas as pd\n",
    "from splinter import Browser\n",
    "from bs4 import BeautifulSoup\n",
    "from webdriver_manager.chrome import ChromeDriverManager\n",
    "import time\n",
    "import re"
   ]
  },
  {
   "cell_type": "markdown",
   "id": "d2fcc5a1",
   "metadata": {},
   "source": [
    "## NASA Mars News"
   ]
  },
  {
   "cell_type": "code",
   "execution_count": 2,
   "id": "43b4beaf",
   "metadata": {},
   "outputs": [
    {
     "name": "stderr",
     "output_type": "stream",
     "text": [
      "\n",
      "\n",
      "====== WebDriver manager ======\n",
      "Current google-chrome version is 96.0.4664\n",
      "Get LATEST chromedriver version for 96.0.4664 google-chrome\n",
      "Driver [C:\\Users\\JINK\\.wdm\\drivers\\chromedriver\\win32\\96.0.4664.45\\chromedriver.exe] found in cache\n"
     ]
    }
   ],
   "source": [
    "# Setup splinter\n",
    "executable_path = {'executable_path': ChromeDriverManager().install()}\n",
    "browser = Browser('chrome', **executable_path, headless=False)"
   ]
  },
  {
   "cell_type": "code",
   "execution_count": 3,
   "id": "9cafa0b3",
   "metadata": {},
   "outputs": [],
   "source": [
    "# Access https://redplanetscience.com/\n",
    "url_red_planet = \"https://redplanetscience.com/\"\n",
    "browser.visit(url_red_planet)\n",
    "\n",
    "# Allow the page time to load\n",
    "time.sleep(5)"
   ]
  },
  {
   "cell_type": "code",
   "execution_count": 4,
   "id": "c5136c59",
   "metadata": {},
   "outputs": [
    {
     "name": "stdout",
     "output_type": "stream",
     "text": [
      "> Title: The Man Who Wanted to Fly on Mars\n",
      "\n",
      "> Article Teaser: The Mars Helicopter is riding to the Red Planet this summer with NASA's Perseverance rover. The helicopter's chief engineer, Bob Balaram, shares the saga of how it came into being.\n"
     ]
    }
   ],
   "source": [
    "# Set the Beautiful Soup object with the fully loaded page\n",
    "html = browser.html\n",
    "soup = BeautifulSoup(html, 'html.parser')    \n",
    "\n",
    "# Pull news_title\n",
    "news_title=soup.find(\"div\",class_=\"content_title\").text\n",
    "\n",
    "# Pull news paragraph\n",
    "news_p=soup.find(\"div\",class_=\"article_teaser_body\").text\n",
    "\n",
    "# Print news title and paragraph\n",
    "print(f\"> Title: {news_title}\\n\\n> Article Teaser: {news_p}\")"
   ]
  },
  {
   "cell_type": "code",
   "execution_count": 5,
   "id": "489dd742",
   "metadata": {},
   "outputs": [],
   "source": [
    "# Close the browser\n",
    "browser.quit()"
   ]
  },
  {
   "cell_type": "markdown",
   "id": "95429a4e",
   "metadata": {},
   "source": [
    "## JPL Mars Space Images - Featured Image"
   ]
  },
  {
   "cell_type": "code",
   "execution_count": 6,
   "id": "811ba744",
   "metadata": {},
   "outputs": [
    {
     "name": "stderr",
     "output_type": "stream",
     "text": [
      "\n",
      "\n",
      "====== WebDriver manager ======\n",
      "Current google-chrome version is 96.0.4664\n",
      "Get LATEST chromedriver version for 96.0.4664 google-chrome\n",
      "Driver [C:\\Users\\JINK\\.wdm\\drivers\\chromedriver\\win32\\96.0.4664.45\\chromedriver.exe] found in cache\n"
     ]
    }
   ],
   "source": [
    "# Setup splinter\n",
    "executable_path = {'executable_path': ChromeDriverManager().install()}\n",
    "browser = Browser('chrome', **executable_path, headless=False)"
   ]
  },
  {
   "cell_type": "code",
   "execution_count": 7,
   "id": "20980d72",
   "metadata": {},
   "outputs": [],
   "source": [
    "# Access https://spaceimages-mars.com/\n",
    "url_space_image = \"https://spaceimages-mars.com/\"\n",
    "browser.visit(url_space_image)\n",
    "\n",
    "# Allow the page time to load\n",
    "time.sleep(5)"
   ]
  },
  {
   "cell_type": "code",
   "execution_count": 8,
   "id": "c9e9b204",
   "metadata": {},
   "outputs": [
    {
     "name": "stdout",
     "output_type": "stream",
     "text": [
      "Here is the link to the current Featured Mars Image: https://spaceimages-mars.com/image/featured/mars2.jpg\n"
     ]
    }
   ],
   "source": [
    "# Set the Beautiful Soup object with the fully loaded page\n",
    "html = browser.html\n",
    "soup = BeautifulSoup(html, 'html.parser')    \n",
    "\n",
    "# Save the first results in a variable\n",
    "results=soup.find_all(\"img\", class_=\"headerimage fade-in\")\n",
    "\n",
    "# Pull image url\n",
    "featured_image_url=f\"{url_space_image}{results[0]['src']}\"\n",
    "\n",
    "# Print the url\n",
    "print(f\"Here is the link to the current Featured Mars Image: {featured_image_url}\")"
   ]
  },
  {
   "cell_type": "code",
   "execution_count": 9,
   "id": "7a360be4",
   "metadata": {},
   "outputs": [],
   "source": [
    "# Close the browser\n",
    "browser.quit()"
   ]
  },
  {
   "cell_type": "markdown",
   "id": "3b34af1c",
   "metadata": {},
   "source": [
    "## Mars Facts"
   ]
  },
  {
   "cell_type": "code",
   "execution_count": 10,
   "id": "7c028518",
   "metadata": {
    "scrolled": true
   },
   "outputs": [
    {
     "name": "stderr",
     "output_type": "stream",
     "text": [
      "\n",
      "\n",
      "====== WebDriver manager ======\n",
      "Current google-chrome version is 96.0.4664\n",
      "Get LATEST chromedriver version for 96.0.4664 google-chrome\n",
      "Driver [C:\\Users\\JINK\\.wdm\\drivers\\chromedriver\\win32\\96.0.4664.45\\chromedriver.exe] found in cache\n"
     ]
    }
   ],
   "source": [
    "# Setup splinter\n",
    "executable_path = {'executable_path': ChromeDriverManager().install()}\n",
    "browser = Browser('chrome', **executable_path, headless=False)"
   ]
  },
  {
   "cell_type": "code",
   "execution_count": 11,
   "id": "151ab397",
   "metadata": {},
   "outputs": [],
   "source": [
    "# Access https://galaxyfacts-mars.com/\n",
    "url_galaxy_facts = \"https://galaxyfacts-mars.com/\"\n",
    "browser.visit(url_galaxy_facts)\n",
    "\n",
    "# Allow the page time to load\n",
    "time.sleep(5)"
   ]
  },
  {
   "cell_type": "code",
   "execution_count": 12,
   "id": "929cc67a",
   "metadata": {},
   "outputs": [
    {
     "data": {
      "text/plain": [
       "'<table border=\"1\" class=\"dataframe\">  <thead>    <tr style=\"text-align: right;\">      <th>0</th>      <th>1</th>      <th>2</th>    </tr>  </thead>  <tbody>    <tr>      <td>Mars - Earth Comparison</td>      <td>Mars</td>      <td>Earth</td>    </tr>    <tr>      <td>Diameter:</td>      <td>6,779 km</td>      <td>12,742 km</td>    </tr>    <tr>      <td>Mass:</td>      <td>6.39 × 10^23 kg</td>      <td>5.97 × 10^24 kg</td>    </tr>    <tr>      <td>Moons:</td>      <td>2</td>      <td>1</td>    </tr>    <tr>      <td>Distance from Sun:</td>      <td>227,943,824 km</td>      <td>149,598,262 km</td>    </tr>    <tr>      <td>Length of Year:</td>      <td>687 Earth days</td>      <td>365.24 days</td>    </tr>    <tr>      <td>Temperature:</td>      <td>-87 to -5 °C</td>      <td>-88 to 58°C</td>    </tr>  </tbody></table>'"
      ]
     },
     "execution_count": 12,
     "metadata": {},
     "output_type": "execute_result"
    }
   ],
   "source": [
    "# Read Mars facts table\n",
    "mars_df = pd.read_html(url_galaxy_facts)[0]\n",
    "\n",
    "# Convert the data to a HTML table string\n",
    "mars_table=mars_df.to_html(index=False).replace(\"\\n\",\"\")\n",
    "mars_table"
   ]
  },
  {
   "cell_type": "code",
   "execution_count": 13,
   "id": "0e12e1ef",
   "metadata": {},
   "outputs": [],
   "source": [
    "# Close the browser\n",
    "browser.quit()"
   ]
  },
  {
   "cell_type": "raw",
   "id": "ef3ae0b1",
   "metadata": {},
   "source": []
  },
  {
   "cell_type": "markdown",
   "id": "704cfb7e",
   "metadata": {},
   "source": []
  },
  {
   "cell_type": "code",
   "execution_count": 21,
   "id": "96de22d2",
   "metadata": {
    "scrolled": true
   },
   "outputs": [
    {
     "data": {
      "text/html": [
       "<div>\n",
       "<style scoped>\n",
       "    .dataframe tbody tr th:only-of-type {\n",
       "        vertical-align: middle;\n",
       "    }\n",
       "\n",
       "    .dataframe tbody tr th {\n",
       "        vertical-align: top;\n",
       "    }\n",
       "\n",
       "    .dataframe thead th {\n",
       "        text-align: right;\n",
       "    }\n",
       "</style>\n",
       "<table border=\"1\" class=\"dataframe\">\n",
       "  <thead>\n",
       "    <tr style=\"text-align: right;\">\n",
       "      <th></th>\n",
       "      <th>Mars - Earth Comparison</th>\n",
       "      <th>Mars</th>\n",
       "      <th>Earth</th>\n",
       "    </tr>\n",
       "  </thead>\n",
       "  <tbody>\n",
       "    <tr>\n",
       "      <th>1</th>\n",
       "      <td>Diameter:</td>\n",
       "      <td>6,779 km</td>\n",
       "      <td>12,742 km</td>\n",
       "    </tr>\n",
       "    <tr>\n",
       "      <th>2</th>\n",
       "      <td>Mass:</td>\n",
       "      <td>6.39 × 10^23 kg</td>\n",
       "      <td>5.97 × 10^24 kg</td>\n",
       "    </tr>\n",
       "    <tr>\n",
       "      <th>3</th>\n",
       "      <td>Moons:</td>\n",
       "      <td>2</td>\n",
       "      <td>1</td>\n",
       "    </tr>\n",
       "    <tr>\n",
       "      <th>4</th>\n",
       "      <td>Distance from Sun:</td>\n",
       "      <td>227,943,824 km</td>\n",
       "      <td>149,598,262 km</td>\n",
       "    </tr>\n",
       "    <tr>\n",
       "      <th>5</th>\n",
       "      <td>Length of Year:</td>\n",
       "      <td>687 Earth days</td>\n",
       "      <td>365.24 days</td>\n",
       "    </tr>\n",
       "    <tr>\n",
       "      <th>6</th>\n",
       "      <td>Temperature:</td>\n",
       "      <td>-87 to -5 °C</td>\n",
       "      <td>-88 to 58°C</td>\n",
       "    </tr>\n",
       "  </tbody>\n",
       "</table>\n",
       "</div>"
      ],
      "text/plain": [
       "  Mars - Earth Comparison             Mars            Earth\n",
       "1               Diameter:         6,779 km        12,742 km\n",
       "2                   Mass:  6.39 × 10^23 kg  5.97 × 10^24 kg\n",
       "3                  Moons:                2                1\n",
       "4      Distance from Sun:   227,943,824 km   149,598,262 km\n",
       "5         Length of Year:   687 Earth days      365.24 days\n",
       "6            Temperature:     -87 to -5 °C      -88 to 58°C"
      ]
     },
     "execution_count": 21,
     "metadata": {},
     "output_type": "execute_result"
    }
   ],
   "source": [
    "mars_df.rename(columns=mars_df.iloc[0]).drop(mars_df.index[0])"
   ]
  },
  {
   "cell_type": "markdown",
   "id": "c6a9446f",
   "metadata": {},
   "source": [
    "## Mars Hemispheres"
   ]
  },
  {
   "cell_type": "code",
   "execution_count": 14,
   "id": "e1f269a9",
   "metadata": {},
   "outputs": [
    {
     "name": "stderr",
     "output_type": "stream",
     "text": [
      "\n",
      "\n",
      "====== WebDriver manager ======\n",
      "Current google-chrome version is 96.0.4664\n",
      "Get LATEST chromedriver version for 96.0.4664 google-chrome\n",
      "Driver [C:\\Users\\JINK\\.wdm\\drivers\\chromedriver\\win32\\96.0.4664.45\\chromedriver.exe] found in cache\n"
     ]
    }
   ],
   "source": [
    "# Setup splinter\n",
    "executable_path = {'executable_path': ChromeDriverManager().install()}\n",
    "browser = Browser('chrome', **executable_path, headless=False)"
   ]
  },
  {
   "cell_type": "code",
   "execution_count": 15,
   "id": "0c55cbd2",
   "metadata": {},
   "outputs": [],
   "source": [
    "# Access https://galaxyfacts-mars.com/\n",
    "url_mars_hemi = \"https://marshemispheres.com/\"\n",
    "browser.visit(url_mars_hemi)\n",
    "\n",
    "# Allow the page time to load\n",
    "time.sleep(5)"
   ]
  },
  {
   "cell_type": "markdown",
   "id": "cbbcb567",
   "metadata": {},
   "source": [
    "### Cerberus Hemisphere Enhanced"
   ]
  },
  {
   "cell_type": "code",
   "execution_count": 16,
   "id": "45fa31c9",
   "metadata": {},
   "outputs": [
    {
     "name": "stderr",
     "output_type": "stream",
     "text": [
      "C:\\Users\\JINK\\anaconda3\\lib\\site-packages\\splinter\\driver\\webdriver\\__init__.py:519: FutureWarning: browser.find_link_by_partial_text is deprecated. Use browser.links.find_by_partial_text instead.\n",
      "  warnings.warn(\n"
     ]
    }
   ],
   "source": [
    "# Click on Cerberus Hemisphere Enhanced\n",
    "browser.click_link_by_partial_text('Cerberus')"
   ]
  },
  {
   "cell_type": "code",
   "execution_count": 17,
   "id": "586d6dae",
   "metadata": {},
   "outputs": [],
   "source": [
    "# Create an empty list to hold the results\n",
    "image_urls=[]\n",
    "image_titles=[]\n",
    "\n",
    "# Set the Beautiful Soup object with the fully loaded page\n",
    "html = browser.html\n",
    "soup = BeautifulSoup(html, 'html.parser')    \n",
    "\n",
    "# Pull the image URL and append the url list\n",
    "cerberus_url=url_mars_hemi+soup.find(\"img\", class_=\"wide-image\")[\"src\"]\n",
    "image_urls.append(cerberus_url)\n",
    "\n",
    "# Pull image title and append the title list\n",
    "cerberus_title=soup.find(\"h2\", class_=\"title\").text\n",
    "image_titles.append(cerberus_title)"
   ]
  },
  {
   "cell_type": "markdown",
   "id": "04dd33f4",
   "metadata": {},
   "source": [
    "### Schiaparelli Hemisphere Enhanced"
   ]
  },
  {
   "cell_type": "code",
   "execution_count": 18,
   "id": "23391a0c",
   "metadata": {},
   "outputs": [],
   "source": [
    "# Go back to the home page\n",
    "browser.click_link_by_partial_text('Back')"
   ]
  },
  {
   "cell_type": "code",
   "execution_count": 19,
   "id": "750fa9ae",
   "metadata": {},
   "outputs": [],
   "source": [
    "# Click on Schiaparelli Hemisphere Enhanced\n",
    "browser.click_link_by_partial_text('Schiaparelli')"
   ]
  },
  {
   "cell_type": "code",
   "execution_count": 20,
   "id": "a5619d90",
   "metadata": {},
   "outputs": [],
   "source": [
    "# Set the Beautiful Soup object with the fully loaded page\n",
    "html = browser.html\n",
    "soup = BeautifulSoup(html, 'html.parser')    \n",
    "\n",
    "# Pull the image URL and append the url list\n",
    "schiaparelli_url=url_mars_hemi+soup.find(\"img\", class_=\"wide-image\")[\"src\"]\n",
    "image_urls.append(schiaparelli_url)\n",
    "\n",
    "# Pull image title and append the title list\n",
    "schiaparelli_title=soup.find(\"h2\", class_=\"title\").text\n",
    "image_titles.append(schiaparelli_title)"
   ]
  },
  {
   "cell_type": "markdown",
   "id": "0de0ef5d",
   "metadata": {},
   "source": [
    "### Syrtis Major Hemisphere Enhanced"
   ]
  },
  {
   "cell_type": "code",
   "execution_count": 21,
   "id": "cdea4c43",
   "metadata": {},
   "outputs": [],
   "source": [
    "# Go back to the home page\n",
    "browser.click_link_by_partial_text('Back')"
   ]
  },
  {
   "cell_type": "code",
   "execution_count": 22,
   "id": "2527b904",
   "metadata": {},
   "outputs": [],
   "source": [
    "# Click on Syrtis Major Hemisphere Enhanced\n",
    "browser.click_link_by_partial_text('Syrtis')"
   ]
  },
  {
   "cell_type": "code",
   "execution_count": 23,
   "id": "93d615c5",
   "metadata": {},
   "outputs": [],
   "source": [
    "# Set the Beautiful Soup object with the fully loaded page\n",
    "html = browser.html\n",
    "soup = BeautifulSoup(html, 'html.parser')    \n",
    "\n",
    "# Pull the image URL and append the url list\n",
    "syrtis_url=url_mars_hemi+soup.find(\"img\", class_=\"wide-image\")[\"src\"]\n",
    "image_urls.append(syrtis_url)\n",
    "\n",
    "# Pull image title and append the title list\n",
    "syrtis_title=soup.find(\"h2\", class_=\"title\").text\n",
    "image_titles.append(syrtis_title)"
   ]
  },
  {
   "cell_type": "markdown",
   "id": "2734c5dc",
   "metadata": {},
   "source": [
    "### Valles Marineris Hemisphere Enhanced"
   ]
  },
  {
   "cell_type": "code",
   "execution_count": 24,
   "id": "8896409b",
   "metadata": {},
   "outputs": [],
   "source": [
    "# Go back to the home page\n",
    "browser.click_link_by_partial_text('Back')"
   ]
  },
  {
   "cell_type": "code",
   "execution_count": 25,
   "id": "de62f4f9",
   "metadata": {},
   "outputs": [],
   "source": [
    "# Click on Valles Marineris Hemisphere Enhanced\n",
    "browser.click_link_by_partial_text('Valles')"
   ]
  },
  {
   "cell_type": "code",
   "execution_count": 26,
   "id": "ab27e9f4",
   "metadata": {},
   "outputs": [],
   "source": [
    "# Set the Beautiful Soup object with the fully loaded page\n",
    "html = browser.html\n",
    "soup = BeautifulSoup(html, 'html.parser')    \n",
    "\n",
    "# Pull the image URL and append the url list\n",
    "valles_url=url_mars_hemi+soup.find(\"img\", class_=\"wide-image\")[\"src\"]\n",
    "image_urls.append(valles_url)\n",
    "\n",
    "# Pull image title and append the title list\n",
    "valles_title=soup.find(\"h2\", class_=\"title\").text\n",
    "image_titles.append(valles_title)"
   ]
  },
  {
   "cell_type": "code",
   "execution_count": 27,
   "id": "395b9f16",
   "metadata": {},
   "outputs": [],
   "source": [
    "# Close the browser\n",
    "browser.quit()"
   ]
  },
  {
   "cell_type": "code",
   "execution_count": 28,
   "id": "d6a7aeb5",
   "metadata": {},
   "outputs": [],
   "source": [
    "hemisphere_image_urls=[]\n",
    "for i in range(len(image_urls)):\n",
    "    hemisphere_image_urls.append({\"title\": image_titles[i],\"img_url\":image_urls[i]})"
   ]
  },
  {
   "cell_type": "code",
   "execution_count": 29,
   "id": "32a9f1f6",
   "metadata": {},
   "outputs": [
    {
     "data": {
      "text/plain": [
       "[{'title': 'Cerberus Hemisphere Enhanced',\n",
       "  'img_url': 'https://marshemispheres.com/images/f5e372a36edfa389625da6d0cc25d905_cerberus_enhanced.tif_full.jpg'},\n",
       " {'title': 'Schiaparelli Hemisphere Enhanced',\n",
       "  'img_url': 'https://marshemispheres.com/images/3778f7b43bbbc89d6e3cfabb3613ba93_schiaparelli_enhanced.tif_full.jpg'},\n",
       " {'title': 'Syrtis Major Hemisphere Enhanced',\n",
       "  'img_url': 'https://marshemispheres.com/images/555e6403a6ddd7ba16ddb0e471cadcf7_syrtis_major_enhanced.tif_full.jpg'},\n",
       " {'title': 'Valles Marineris Hemisphere Enhanced',\n",
       "  'img_url': 'https://marshemispheres.com/images/b3c7c6c9138f57b4756be9b9c43e3a48_valles_marineris_enhanced.tif_full.jpg'}]"
      ]
     },
     "execution_count": 29,
     "metadata": {},
     "output_type": "execute_result"
    }
   ],
   "source": [
    "hemisphere_image_urls"
   ]
  }
 ],
 "metadata": {
  "kernelspec": {
   "display_name": "Python 3",
   "language": "python",
   "name": "python3"
  },
  "language_info": {
   "codemirror_mode": {
    "name": "ipython",
    "version": 3
   },
   "file_extension": ".py",
   "mimetype": "text/x-python",
   "name": "python",
   "nbconvert_exporter": "python",
   "pygments_lexer": "ipython3",
   "version": "3.8.8"
  }
 },
 "nbformat": 4,
 "nbformat_minor": 5
}
